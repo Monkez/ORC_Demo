{
 "cells": [
  {
   "cell_type": "code",
   "execution_count": 24,
   "metadata": {
    "ExecuteTime": {
     "end_time": "2020-07-10T12:19:43.589502Z",
     "start_time": "2020-07-10T12:19:04.228123Z"
    }
   },
   "outputs": [],
   "source": [
    "import easyocr\n",
    "import cv2\n",
    "import numpy as np\n",
    "from PIL import Image\n",
    "\n",
    "file = 'aligned0.jpg'\n",
    "reader = easyocr.Reader(['de'])\n",
    "prediction = np.array(reader.readtext(file))"
   ]
  },
  {
   "cell_type": "code",
   "execution_count": 25,
   "metadata": {
    "ExecuteTime": {
     "end_time": "2020-07-10T12:20:19.013746Z",
     "start_time": "2020-07-10T12:19:43.590500Z"
    }
   },
   "outputs": [],
   "source": [
    "horizontal_list, free_list = reader.custom_text_detection(file)\n",
    "prediction = np.array(reader.custom_text_recognition(file, horizontal_list, free_list))"
   ]
  },
  {
   "cell_type": "code",
   "execution_count": 22,
   "metadata": {
    "ExecuteTime": {
     "end_time": "2020-07-10T07:40:11.524323Z",
     "start_time": "2020-07-10T07:40:11.503377Z"
    }
   },
   "outputs": [],
   "source": [
    "SHOW_IMAGE = True\n",
    "# font \n",
    "font = cv2.FONT_HERSHEY_SIMPLEX \n",
    "fontScale = 0.85\n",
    "# Blue color in BGR \n",
    "color = (255, 0, 0) \n",
    "# Line thickness of 2 px \n",
    "thickness = 2\n",
    "\n",
    "def show(np_img, name=\"image\", show=SHOW_IMAGE):\n",
    "    if show:\n",
    "        Image.fromarray(np_img).show(name)\n",
    "\n",
    "def get_hight_of_box(box):\n",
    "    return (box[2][1]+box[3][1]-box[0][1]-box[1][1])/2\n",
    "\n",
    "def box_filter(prediction, image_size):\n",
    "    prediction = np.array(prediction)\n",
    "    hights = []\n",
    "    box_index = np.zeros(len(prediction)) \n",
    "    for box_out in prediction:\n",
    "        box = box_out[0]\n",
    "        h = get_hight_of_box(box)\n",
    "        hights.append(int(h))\n",
    "    hights = np.array(hights)\n",
    "    prediction_out =  prediction[hights>0.75*np.mean(hights)]\n",
    "    return prediction_out\n",
    "\n",
    "def draw_image(image_c, prediction, texts = None, is_show = False):\n",
    "    for i in range(prediction.shape[0]):\n",
    "        box_out = prediction[i]\n",
    "        box = box_out[0]\n",
    "        points = np.reshape(box, [4, 2]).astype(np.int32)\n",
    "        cv2.line(image_c,tuple(points[0]),tuple(points[1]),(0,0,255),2)\n",
    "        cv2.line(image_c,tuple(points[0]),tuple(points[3]),(0,0,255),2)\n",
    "        cv2.line(image_c,tuple(points[1]),tuple(points[2]),(0,0,255),2)\n",
    "        cv2.line(image_c,tuple(points[2]),tuple(points[3]),(0,0,255),2)\n",
    "        if texts is None:\n",
    "            image_c = cv2.putText(image_c, str(box_out[1]), ((points[0][0], points[0][1])), font, fontScale, color, thickness, cv2.LINE_AA)\n",
    "        else:\n",
    "            image_c = cv2.putText(image_c, str(texts[i]), ((points[0][0], points[0][1])), font, fontScale, color, thickness, cv2.LINE_AA)\n",
    "    if is_show:\n",
    "        show(image_c)\n",
    "    return image_c\n",
    "\n",
    "def sort_by_hpos(boxes):\n",
    "    pos = np.array(boxes[:, 0])\n",
    "    hpos = []\n",
    "    for p in pos:\n",
    "        hpos.append((p[0][1]+p[2][1])//2)\n",
    "    hpos = np.array(hpos)\n",
    "    boxes = boxes[hpos.argsort()]\n",
    "    hpos = np.sort(hpos)\n",
    "    return hpos, boxes\n",
    "\n",
    "def sort_by_wpos(boxes):\n",
    "    pos = np.array(boxes[:, 0])\n",
    "    wpos = []\n",
    "    for p in pos:\n",
    "        wpos.append((p[0][0]+p[2][0])//2)\n",
    "    wpos = np.array(wpos)\n",
    "    boxes = boxes[wpos.argsort()]\n",
    "    wpos = np.sort(wpos)\n",
    "    return wpos, boxes\n",
    "\n",
    "def sort_boxes_by_line(boxes):\n",
    "    max_dis_rate = 2.5\n",
    "    hpos, boxes = sort_by_hpos(boxes)\n",
    "    boxes_out = []\n",
    "    hc = get_hight_of_box(boxes[0][0])\n",
    "    max_dis = hc//max_dis_rate\n",
    "    boxes_out_row_i = []\n",
    "    line_hpos = []\n",
    "    pc = hpos[0]\n",
    "    for i in range(boxes.shape[0]):\n",
    "        if abs(hpos[i]- pc)<max_dis:\n",
    "            boxes_out_row_i.append(boxes[i])\n",
    "        else:\n",
    "            wpos, sorted_row = sort_by_wpos(np.array(boxes_out_row_i))\n",
    "            boxes_out.append(sorted_row)\n",
    "            boxes_out_row_i = [boxes[i]]\n",
    "            hc = get_hight_of_box(boxes[i][0])\n",
    "            max_dis = hc//max_dis_rate\n",
    "            pc = hpos[i]\n",
    "    return boxes_out \n",
    "\n",
    "def line_hpos_caculator(line):\n",
    "    h_min = line[0][0][0][1]\n",
    "    h_max = 0\n",
    "    for box in line:\n",
    "        for point in box[0]:\n",
    "            if h_min > point[1]:\n",
    "                h_min = point[1]\n",
    "            if h_max< point[1]:\n",
    "                h_max = point[1]\n",
    "    return (h_min+h_max)//2\n"
   ]
  },
  {
   "cell_type": "code",
   "execution_count": null,
   "metadata": {},
   "outputs": [],
   "source": [
    "left_side_config=[\n",
    "    {\"num\":1, \"hpos\":64},\n",
    "    {\"num\":1, \"hpos\":106}\n",
    "]"
   ]
  },
  {
   "cell_type": "code",
   "execution_count": 23,
   "metadata": {
    "ExecuteTime": {
     "end_time": "2020-07-10T07:40:16.596666Z",
     "start_time": "2020-07-10T07:40:12.271109Z"
    }
   },
   "outputs": [
    {
     "name": "stdout",
     "output_type": "stream",
     "text": [
      "64\n",
      "106\n",
      "168\n",
      "218\n",
      "237\n",
      "564\n",
      "649\n",
      "855\n",
      "886\n",
      "933\n",
      "1121\n"
     ]
    }
   ],
   "source": [
    "image_c = cv2.imread(file)\n",
    "h, w = image_c.shape[:2]\n",
    "prediction_filtered = box_filter(prediction, (h, w))\n",
    "left_bound = int(w/3.6)\n",
    "right_bound = int(w/1.6)\n",
    "draw_image(image_c.copy(), prediction, is_show = True)\n",
    "draw_image(image_c.copy(), prediction_filtered, is_show = True)\n",
    "boxes_xpos = np.zeros(prediction_filtered.shape[0])\n",
    "\n",
    "cv2.line(image_c, (left_bound, 0),(left_bound, h), (0,255,0),2)\n",
    "cv2.line(image_c, (right_bound, 0),(right_bound, h), (0,255,0),2)\n",
    "for i in range(prediction_filtered.shape[0]):\n",
    "    boxes_xpos[i]=prediction_filtered[i][0][0][0]\n",
    "\n",
    "########### LEFT AREA\n",
    "left_boxes = prediction_filtered[boxes_xpos<left_bound]\n",
    "\n",
    "left_boxes_sorted = sort_boxes_by_line(left_boxes)\n",
    "\n",
    "for i in range(len(left_boxes_sorted)):\n",
    "    texts = []\n",
    "    stt = 0\n",
    "    for box in left_boxes_sorted[i]:\n",
    "        stt+=1\n",
    "        texts.append(str(i+1)+\"-\"+str(stt))\n",
    "    hpos = line_hpos_caculator(left_boxes_sorted[i])\n",
    "    print(hpos)\n",
    "    image_c = draw_image(image_c, left_boxes_sorted[i], texts)\n",
    "    \n",
    "########### MIDDLE AREA\n",
    "# middle_boxes = prediction_filtered[boxes_xpos>right_bound]\n",
    "# middle_boxes_sorted = sort_boxes_by_line(middle_boxes)\n",
    "\n",
    "# for i in range(len(middle_boxes_sorted)):\n",
    "#     texts = []\n",
    "#     stt = 0\n",
    "#     for box in middle_boxes_sorted[i]:\n",
    "#         stt+=1\n",
    "#         texts.append(str(i+1)+\"-\"+str(stt))\n",
    "#     image_c = draw_image(image_c, middle_boxes_sorted[i], texts)\n",
    "    \n",
    "show(image_c)    "
   ]
  },
  {
   "cell_type": "code",
   "execution_count": null,
   "metadata": {},
   "outputs": [],
   "source": []
  }
 ],
 "metadata": {
  "kernelspec": {
   "display_name": "Python 3",
   "language": "python",
   "name": "python3"
  },
  "language_info": {
   "codemirror_mode": {
    "name": "ipython",
    "version": 3
   },
   "file_extension": ".py",
   "mimetype": "text/x-python",
   "name": "python",
   "nbconvert_exporter": "python",
   "pygments_lexer": "ipython3",
   "version": "3.7.6"
  }
 },
 "nbformat": 4,
 "nbformat_minor": 4
}
